{
 "cells": [
  {
   "cell_type": "markdown",
   "metadata": {
    "collapsed": true,
    "pycharm": {
     "name": "#%% md\n"
    }
   },
   "source": [
    "# tensorflow 入门\n",
    "## 使用顺序 API 构建图像分类器\n",
    "### 准备数据"
   ]
  },
  {
   "cell_type": "code",
   "source": [
    "import numpy as np\n",
    "from tensorflow import keras\n",
    "from tensorflow.keras import layers\n",
    "\n",
    "fashion_mnist = keras.datasets.fashion_mnist\n",
    "(X_train_full, y_train_full), (X_test, y_test) = fashion_mnist.load_data()\n",
    "\n",
    "X_valid, X_train = X_train_full[:5000] / 255.0, X_train_full[5000:] / 255.0\n",
    "y_valid, y_train = y_train_full[:5000], y_train_full[5000:]\n",
    "\n",
    "class_names = ['T-shirt/top', 'Trouser', 'Pullover', 'Dress',\n",
    "               'Coat', 'Sandal', 'Shirt', 'Sneaker', 'Bag', 'Ankle boot']"
   ],
   "metadata": {
    "collapsed": false,
    "pycharm": {
     "name": "#%%\n"
    }
   },
   "execution_count": 4,
   "outputs": []
  },
  {
   "cell_type": "markdown",
   "source": [
    "### 训练模型\n",
    "#### 利用顺序 API"
   ],
   "metadata": {
    "collapsed": false,
    "pycharm": {
     "name": "#%% md\n"
    }
   }
  },
  {
   "cell_type": "code",
   "execution_count": 5,
   "outputs": [
    {
     "name": "stdout",
     "output_type": "stream",
     "text": [
      "Epoch 1/100\n",
      "1719/1719 [==============================] - 2s 1ms/step - loss: 0.7293 - accuracy: 0.7587 - val_loss: 0.5496 - val_accuracy: 0.8098\n",
      "Epoch 2/100\n",
      "1719/1719 [==============================] - 2s 1ms/step - loss: 0.4903 - accuracy: 0.8282 - val_loss: 0.4753 - val_accuracy: 0.8332\n",
      "Epoch 3/100\n",
      "1719/1719 [==============================] - 2s 1ms/step - loss: 0.4459 - accuracy: 0.8424 - val_loss: 0.4324 - val_accuracy: 0.8520\n",
      "Epoch 4/100\n",
      "1719/1719 [==============================] - 2s 1ms/step - loss: 0.4177 - accuracy: 0.8520 - val_loss: 0.4092 - val_accuracy: 0.8556\n",
      "Epoch 5/100\n",
      "1719/1719 [==============================] - 2s 1ms/step - loss: 0.3957 - accuracy: 0.8611 - val_loss: 0.3853 - val_accuracy: 0.8674\n",
      "Epoch 6/100\n",
      "1719/1719 [==============================] - 2s 1ms/step - loss: 0.3796 - accuracy: 0.8660 - val_loss: 0.3693 - val_accuracy: 0.8708\n",
      "Epoch 7/100\n",
      "1719/1719 [==============================] - 2s 1ms/step - loss: 0.3666 - accuracy: 0.8703 - val_loss: 0.3622 - val_accuracy: 0.8754\n",
      "Epoch 8/100\n",
      "1719/1719 [==============================] - 2s 1ms/step - loss: 0.3536 - accuracy: 0.8742 - val_loss: 0.3554 - val_accuracy: 0.8766\n",
      "Epoch 9/100\n",
      "1719/1719 [==============================] - 2s 982us/step - loss: 0.3435 - accuracy: 0.8775 - val_loss: 0.3457 - val_accuracy: 0.8766\n",
      "Epoch 10/100\n",
      "1719/1719 [==============================] - 2s 1ms/step - loss: 0.3331 - accuracy: 0.8814 - val_loss: 0.3379 - val_accuracy: 0.8794\n",
      "Epoch 11/100\n",
      "1719/1719 [==============================] - 2s 995us/step - loss: 0.3243 - accuracy: 0.8851 - val_loss: 0.3515 - val_accuracy: 0.8778\n",
      "Epoch 12/100\n",
      "1719/1719 [==============================] - 2s 1ms/step - loss: 0.3161 - accuracy: 0.8873 - val_loss: 0.3326 - val_accuracy: 0.8794\n",
      "Epoch 13/100\n",
      "1719/1719 [==============================] - 2s 1ms/step - loss: 0.3087 - accuracy: 0.8899 - val_loss: 0.3487 - val_accuracy: 0.8798\n",
      "Epoch 14/100\n",
      "1719/1719 [==============================] - 2s 1ms/step - loss: 0.3026 - accuracy: 0.8905 - val_loss: 0.3194 - val_accuracy: 0.8860\n",
      "Epoch 15/100\n",
      "1719/1719 [==============================] - 2s 1ms/step - loss: 0.2962 - accuracy: 0.8938 - val_loss: 0.3375 - val_accuracy: 0.8838\n",
      "Epoch 16/100\n",
      "1719/1719 [==============================] - 2s 1ms/step - loss: 0.2895 - accuracy: 0.8951 - val_loss: 0.3352 - val_accuracy: 0.8778\n",
      "Epoch 17/100\n",
      "1719/1719 [==============================] - 2s 1ms/step - loss: 0.2845 - accuracy: 0.8972 - val_loss: 0.3120 - val_accuracy: 0.8872\n",
      "Epoch 18/100\n",
      "1719/1719 [==============================] - 2s 1ms/step - loss: 0.2790 - accuracy: 0.8989 - val_loss: 0.3171 - val_accuracy: 0.8836\n",
      "Epoch 19/100\n",
      "1719/1719 [==============================] - 2s 991us/step - loss: 0.2720 - accuracy: 0.9023 - val_loss: 0.3160 - val_accuracy: 0.8858\n",
      "Epoch 20/100\n",
      "1719/1719 [==============================] - 2s 1ms/step - loss: 0.2673 - accuracy: 0.9034 - val_loss: 0.3111 - val_accuracy: 0.8864\n",
      "Epoch 21/100\n",
      "1719/1719 [==============================] - 2s 1ms/step - loss: 0.2621 - accuracy: 0.9060 - val_loss: 0.3179 - val_accuracy: 0.8834\n",
      "Epoch 22/100\n",
      "1719/1719 [==============================] - 2s 1ms/step - loss: 0.2571 - accuracy: 0.9085 - val_loss: 0.3119 - val_accuracy: 0.8890\n",
      "Epoch 23/100\n",
      "1719/1719 [==============================] - 2s 1ms/step - loss: 0.2539 - accuracy: 0.9073 - val_loss: 0.3067 - val_accuracy: 0.8894\n",
      "Epoch 24/100\n",
      "1719/1719 [==============================] - 2s 1ms/step - loss: 0.2485 - accuracy: 0.9105 - val_loss: 0.3029 - val_accuracy: 0.8916\n",
      "Epoch 25/100\n",
      "1719/1719 [==============================] - 2s 997us/step - loss: 0.2448 - accuracy: 0.9119 - val_loss: 0.3117 - val_accuracy: 0.8848\n",
      "Epoch 26/100\n",
      "1719/1719 [==============================] - 2s 1ms/step - loss: 0.2410 - accuracy: 0.9137 - val_loss: 0.3391 - val_accuracy: 0.8784\n",
      "Epoch 27/100\n",
      "1719/1719 [==============================] - 2s 982us/step - loss: 0.2365 - accuracy: 0.9162 - val_loss: 0.3291 - val_accuracy: 0.8792\n",
      "Epoch 28/100\n",
      "1719/1719 [==============================] - 2s 1ms/step - loss: 0.2324 - accuracy: 0.9168 - val_loss: 0.3037 - val_accuracy: 0.8916\n",
      "Epoch 29/100\n",
      "1719/1719 [==============================] - 2s 996us/step - loss: 0.2289 - accuracy: 0.9179 - val_loss: 0.2976 - val_accuracy: 0.8890\n",
      "Epoch 30/100\n",
      "1719/1719 [==============================] - 2s 1ms/step - loss: 0.2245 - accuracy: 0.9199 - val_loss: 0.3068 - val_accuracy: 0.8906\n",
      "Epoch 31/100\n",
      "1719/1719 [==============================] - 2s 1ms/step - loss: 0.2215 - accuracy: 0.9208 - val_loss: 0.2948 - val_accuracy: 0.8946\n",
      "Epoch 32/100\n",
      "1719/1719 [==============================] - 2s 1ms/step - loss: 0.2178 - accuracy: 0.9217 - val_loss: 0.3025 - val_accuracy: 0.8906\n",
      "Epoch 33/100\n",
      "1719/1719 [==============================] - 2s 996us/step - loss: 0.2139 - accuracy: 0.9237 - val_loss: 0.2968 - val_accuracy: 0.8940\n",
      "Epoch 34/100\n",
      "1719/1719 [==============================] - 2s 1ms/step - loss: 0.2108 - accuracy: 0.9253 - val_loss: 0.2924 - val_accuracy: 0.8936\n",
      "Epoch 35/100\n",
      "1719/1719 [==============================] - 2s 1ms/step - loss: 0.2074 - accuracy: 0.9257 - val_loss: 0.2943 - val_accuracy: 0.8944\n",
      "Epoch 36/100\n",
      "1719/1719 [==============================] - 2s 1ms/step - loss: 0.2044 - accuracy: 0.9260 - val_loss: 0.2890 - val_accuracy: 0.8924\n",
      "Epoch 37/100\n",
      "1719/1719 [==============================] - 2s 998us/step - loss: 0.2008 - accuracy: 0.9278 - val_loss: 0.3018 - val_accuracy: 0.8934\n",
      "Epoch 38/100\n",
      "1719/1719 [==============================] - 2s 1ms/step - loss: 0.1978 - accuracy: 0.9292 - val_loss: 0.3018 - val_accuracy: 0.8946\n",
      "Epoch 39/100\n",
      "1719/1719 [==============================] - 2s 999us/step - loss: 0.1951 - accuracy: 0.9305 - val_loss: 0.2891 - val_accuracy: 0.8966\n",
      "Epoch 40/100\n",
      "1719/1719 [==============================] - 2s 1ms/step - loss: 0.1919 - accuracy: 0.9319 - val_loss: 0.3005 - val_accuracy: 0.8956\n",
      "Epoch 41/100\n",
      "1719/1719 [==============================] - 2s 1ms/step - loss: 0.1885 - accuracy: 0.9325 - val_loss: 0.3053 - val_accuracy: 0.8912\n",
      "Epoch 42/100\n",
      "1719/1719 [==============================] - 2s 1ms/step - loss: 0.1862 - accuracy: 0.9332 - val_loss: 0.3038 - val_accuracy: 0.8878\n",
      "Epoch 43/100\n",
      "1719/1719 [==============================] - 2s 1ms/step - loss: 0.1823 - accuracy: 0.9356 - val_loss: 0.2995 - val_accuracy: 0.8948\n",
      "Epoch 44/100\n",
      "1719/1719 [==============================] - 2s 1ms/step - loss: 0.1798 - accuracy: 0.9360 - val_loss: 0.2994 - val_accuracy: 0.8900\n",
      "Epoch 45/100\n",
      "1719/1719 [==============================] - 2s 1ms/step - loss: 0.1764 - accuracy: 0.9379 - val_loss: 0.2949 - val_accuracy: 0.8966\n",
      "Epoch 46/100\n",
      "1719/1719 [==============================] - 2s 1ms/step - loss: 0.1744 - accuracy: 0.9381 - val_loss: 0.3023 - val_accuracy: 0.8918\n"
     ]
    }
   ],
   "source": [
    "model = keras.models.Sequential([\n",
    "    layers.Flatten(input_shape=[28, 28]),\n",
    "    layers.Dense(300, activation='relu'),\n",
    "    layers.Dense(100, activation='relu'),\n",
    "    layers.Dense(10, activation='softmax')\n",
    "])\n",
    "\n",
    "model.compile(loss='sparse_categorical_crossentropy', optimizer='sgd', metrics=['accuracy'])\n",
    "early_stopping_cb = keras.callbacks.EarlyStopping(patience=10, restore_best_weights=True)\n",
    "history = model.fit(X_train, y_train, epochs=100, validation_data=(X_valid, y_valid), callbacks=[early_stopping_cb])\n",
    "model.save(\"keras_model.h5\")"
   ],
   "metadata": {
    "collapsed": false,
    "pycharm": {
     "name": "#%%\n"
    }
   }
  },
  {
   "cell_type": "markdown",
   "source": [
    "#### 可微调超参数的训练"
   ],
   "metadata": {
    "collapsed": false,
    "pycharm": {
     "name": "#%% md\n"
    }
   }
  },
  {
   "cell_type": "code",
   "execution_count": 6,
   "outputs": [
    {
     "name": "stdout",
     "output_type": "stream",
     "text": [
      "Epoch 1/100\n"
     ]
    },
    {
     "name": "stderr",
     "output_type": "stream",
     "text": [
      "<ipython-input-6-1b4b8db8a975>:17: DeprecationWarning: KerasClassifier is deprecated, use Sci-Keras (https://github.com/adriangb/scikeras) instead.\n",
      "  keras_cls = keras.wrappers.scikit_learn.KerasClassifier(build_model)\n",
      "C:\\Users\\x50021862\\Anaconda3\\lib\\site-packages\\keras\\optimizer_v2\\gradient_descent.py:102: UserWarning: The `lr` argument is deprecated, use `learning_rate` instead.\n",
      "  super(SGD, self).__init__(name, **kwargs)\n"
     ]
    },
    {
     "name": "stdout",
     "output_type": "stream",
     "text": [
      "1719/1719 [==============================] - 1s 757us/step - loss: 1.0789 - accuracy: 0.6606 - val_loss: 0.7553 - val_accuracy: 0.7506\n",
      "Epoch 2/100\n",
      "1719/1719 [==============================] - 1s 769us/step - loss: 0.6966 - accuracy: 0.7668 - val_loss: 0.6278 - val_accuracy: 0.7904\n",
      "Epoch 3/100\n",
      "1719/1719 [==============================] - 1s 711us/step - loss: 0.6094 - accuracy: 0.7963 - val_loss: 0.5747 - val_accuracy: 0.8048\n",
      "Epoch 4/100\n",
      "1719/1719 [==============================] - 1s 720us/step - loss: 0.5622 - accuracy: 0.8108 - val_loss: 0.5348 - val_accuracy: 0.8234\n",
      "Epoch 5/100\n",
      "1719/1719 [==============================] - 1s 766us/step - loss: 0.5323 - accuracy: 0.8201 - val_loss: 0.5144 - val_accuracy: 0.8288\n",
      "Epoch 6/100\n",
      "1719/1719 [==============================] - 1s 701us/step - loss: 0.5108 - accuracy: 0.8272 - val_loss: 0.4933 - val_accuracy: 0.8318\n",
      "Epoch 7/100\n",
      "1719/1719 [==============================] - 1s 715us/step - loss: 0.4944 - accuracy: 0.8313 - val_loss: 0.4805 - val_accuracy: 0.8354\n",
      "Epoch 8/100\n",
      "1719/1719 [==============================] - 1s 755us/step - loss: 0.4818 - accuracy: 0.8365 - val_loss: 0.4726 - val_accuracy: 0.8382\n",
      "Epoch 9/100\n",
      "1719/1719 [==============================] - 1s 728us/step - loss: 0.4705 - accuracy: 0.8391 - val_loss: 0.4608 - val_accuracy: 0.8458\n",
      "Epoch 10/100\n",
      "1719/1719 [==============================] - 1s 708us/step - loss: 0.4615 - accuracy: 0.8414 - val_loss: 0.4521 - val_accuracy: 0.8472\n",
      "Epoch 11/100\n",
      "1719/1719 [==============================] - 1s 745us/step - loss: 0.4538 - accuracy: 0.8432 - val_loss: 0.4461 - val_accuracy: 0.8480\n",
      "Epoch 12/100\n",
      "1719/1719 [==============================] - 1s 703us/step - loss: 0.4467 - accuracy: 0.8465 - val_loss: 0.4375 - val_accuracy: 0.8544\n",
      "Epoch 13/100\n",
      "1719/1719 [==============================] - 1s 762us/step - loss: 0.4407 - accuracy: 0.8473 - val_loss: 0.4350 - val_accuracy: 0.8546\n",
      "Epoch 14/100\n",
      "1719/1719 [==============================] - 1s 719us/step - loss: 0.4355 - accuracy: 0.8491 - val_loss: 0.4298 - val_accuracy: 0.8536\n",
      "Epoch 15/100\n",
      "1719/1719 [==============================] - 1s 730us/step - loss: 0.4302 - accuracy: 0.8511 - val_loss: 0.4264 - val_accuracy: 0.8570\n",
      "Epoch 16/100\n",
      "1719/1719 [==============================] - 1s 787us/step - loss: 0.4256 - accuracy: 0.8524 - val_loss: 0.4231 - val_accuracy: 0.8576\n",
      "Epoch 17/100\n",
      "1719/1719 [==============================] - 1s 722us/step - loss: 0.4213 - accuracy: 0.8535 - val_loss: 0.4187 - val_accuracy: 0.8590\n",
      "Epoch 18/100\n",
      "1719/1719 [==============================] - 1s 715us/step - loss: 0.4175 - accuracy: 0.8546 - val_loss: 0.4146 - val_accuracy: 0.8612\n",
      "Epoch 19/100\n",
      "1719/1719 [==============================] - 1s 759us/step - loss: 0.4139 - accuracy: 0.8559 - val_loss: 0.4133 - val_accuracy: 0.8628\n",
      "Epoch 20/100\n",
      "1719/1719 [==============================] - 1s 714us/step - loss: 0.4105 - accuracy: 0.8571 - val_loss: 0.4093 - val_accuracy: 0.8642\n",
      "Epoch 21/100\n",
      "1719/1719 [==============================] - 1s 722us/step - loss: 0.4075 - accuracy: 0.8588 - val_loss: 0.4064 - val_accuracy: 0.8652\n",
      "Epoch 22/100\n",
      "1719/1719 [==============================] - 1s 746us/step - loss: 0.4046 - accuracy: 0.8598 - val_loss: 0.4060 - val_accuracy: 0.8616\n",
      "Epoch 23/100\n",
      "1719/1719 [==============================] - 1s 746us/step - loss: 0.4020 - accuracy: 0.8605 - val_loss: 0.4026 - val_accuracy: 0.8636\n",
      "Epoch 24/100\n",
      "1719/1719 [==============================] - 1s 771us/step - loss: 0.3989 - accuracy: 0.8613 - val_loss: 0.3989 - val_accuracy: 0.8642\n",
      "Epoch 25/100\n",
      "1719/1719 [==============================] - 1s 715us/step - loss: 0.3961 - accuracy: 0.8631 - val_loss: 0.3967 - val_accuracy: 0.8662\n",
      "Epoch 26/100\n",
      "1719/1719 [==============================] - 1s 717us/step - loss: 0.3941 - accuracy: 0.8635 - val_loss: 0.3961 - val_accuracy: 0.8680\n",
      "Epoch 27/100\n",
      "1719/1719 [==============================] - 1s 764us/step - loss: 0.3914 - accuracy: 0.8642 - val_loss: 0.3946 - val_accuracy: 0.8672\n",
      "Epoch 28/100\n",
      "1719/1719 [==============================] - 1s 718us/step - loss: 0.3892 - accuracy: 0.8659 - val_loss: 0.3926 - val_accuracy: 0.8658\n",
      "Epoch 29/100\n",
      "1719/1719 [==============================] - 1s 706us/step - loss: 0.3872 - accuracy: 0.8661 - val_loss: 0.3897 - val_accuracy: 0.8688\n",
      "Epoch 30/100\n",
      "1719/1719 [==============================] - 1s 755us/step - loss: 0.3851 - accuracy: 0.8663 - val_loss: 0.3888 - val_accuracy: 0.8688\n",
      "Epoch 31/100\n",
      "1719/1719 [==============================] - 1s 712us/step - loss: 0.3830 - accuracy: 0.8670 - val_loss: 0.3921 - val_accuracy: 0.8672\n",
      "Epoch 32/100\n",
      "1719/1719 [==============================] - 1s 737us/step - loss: 0.3809 - accuracy: 0.8678 - val_loss: 0.3882 - val_accuracy: 0.8682\n",
      "Epoch 33/100\n",
      "1719/1719 [==============================] - 1s 747us/step - loss: 0.3791 - accuracy: 0.8687 - val_loss: 0.3872 - val_accuracy: 0.8654\n",
      "Epoch 34/100\n",
      "1719/1719 [==============================] - 1s 720us/step - loss: 0.3773 - accuracy: 0.8689 - val_loss: 0.3874 - val_accuracy: 0.8688\n",
      "Epoch 35/100\n",
      "1719/1719 [==============================] - 1s 763us/step - loss: 0.3757 - accuracy: 0.8700 - val_loss: 0.3836 - val_accuracy: 0.8684\n",
      "Epoch 36/100\n",
      "1719/1719 [==============================] - 1s 719us/step - loss: 0.3739 - accuracy: 0.8703 - val_loss: 0.3816 - val_accuracy: 0.8686\n",
      "Epoch 37/100\n",
      "1719/1719 [==============================] - 1s 726us/step - loss: 0.3720 - accuracy: 0.8715 - val_loss: 0.3859 - val_accuracy: 0.8676\n",
      "Epoch 38/100\n",
      "1719/1719 [==============================] - 1s 765us/step - loss: 0.3708 - accuracy: 0.8713 - val_loss: 0.3781 - val_accuracy: 0.8732\n",
      "Epoch 39/100\n",
      "1719/1719 [==============================] - 1s 721us/step - loss: 0.3689 - accuracy: 0.8723 - val_loss: 0.3787 - val_accuracy: 0.8696\n",
      "Epoch 40/100\n",
      "1719/1719 [==============================] - 1s 724us/step - loss: 0.3675 - accuracy: 0.8737 - val_loss: 0.3780 - val_accuracy: 0.8724\n",
      "Epoch 41/100\n",
      "1719/1719 [==============================] - 1s 781us/step - loss: 0.3658 - accuracy: 0.8729 - val_loss: 0.3776 - val_accuracy: 0.8722\n",
      "Epoch 42/100\n",
      "1719/1719 [==============================] - 1s 727us/step - loss: 0.3642 - accuracy: 0.8740 - val_loss: 0.3770 - val_accuracy: 0.8686\n",
      "Epoch 43/100\n",
      "1719/1719 [==============================] - 1s 745us/step - loss: 0.3627 - accuracy: 0.8738 - val_loss: 0.3719 - val_accuracy: 0.8736\n",
      "Epoch 44/100\n",
      "1719/1719 [==============================] - 1s 743us/step - loss: 0.3617 - accuracy: 0.8748 - val_loss: 0.3736 - val_accuracy: 0.8728\n",
      "Epoch 45/100\n",
      "1719/1719 [==============================] - 1s 710us/step - loss: 0.3599 - accuracy: 0.8755 - val_loss: 0.3709 - val_accuracy: 0.8734\n",
      "Epoch 46/100\n",
      "1719/1719 [==============================] - 1s 777us/step - loss: 0.3586 - accuracy: 0.8752 - val_loss: 0.3719 - val_accuracy: 0.8734\n",
      "Epoch 47/100\n",
      "1719/1719 [==============================] - 1s 725us/step - loss: 0.3574 - accuracy: 0.8760 - val_loss: 0.3770 - val_accuracy: 0.8708\n",
      "Epoch 48/100\n",
      "1719/1719 [==============================] - 1s 728us/step - loss: 0.3559 - accuracy: 0.8759 - val_loss: 0.3686 - val_accuracy: 0.8740\n",
      "Epoch 49/100\n",
      "1719/1719 [==============================] - 1s 776us/step - loss: 0.3546 - accuracy: 0.8777 - val_loss: 0.3799 - val_accuracy: 0.8704\n",
      "Epoch 50/100\n",
      "1719/1719 [==============================] - 1s 713us/step - loss: 0.3532 - accuracy: 0.8775 - val_loss: 0.3722 - val_accuracy: 0.8758\n",
      "Epoch 51/100\n",
      "1719/1719 [==============================] - 1s 713us/step - loss: 0.3522 - accuracy: 0.8779 - val_loss: 0.3681 - val_accuracy: 0.8768\n",
      "Epoch 52/100\n",
      "1719/1719 [==============================] - 1s 763us/step - loss: 0.3508 - accuracy: 0.8790 - val_loss: 0.3657 - val_accuracy: 0.8760\n",
      "Epoch 53/100\n",
      "1719/1719 [==============================] - 1s 722us/step - loss: 0.3493 - accuracy: 0.8791 - val_loss: 0.3691 - val_accuracy: 0.8732\n",
      "Epoch 54/100\n",
      "1719/1719 [==============================] - 1s 751us/step - loss: 0.3485 - accuracy: 0.8796 - val_loss: 0.3634 - val_accuracy: 0.8756\n",
      "Epoch 55/100\n",
      "1719/1719 [==============================] - 1s 733us/step - loss: 0.3471 - accuracy: 0.8795 - val_loss: 0.3645 - val_accuracy: 0.8756\n",
      "Epoch 56/100\n",
      "1719/1719 [==============================] - 1s 723us/step - loss: 0.3458 - accuracy: 0.8803 - val_loss: 0.3682 - val_accuracy: 0.8758\n",
      "Epoch 57/100\n",
      "1719/1719 [==============================] - 1s 767us/step - loss: 0.3447 - accuracy: 0.8807 - val_loss: 0.3675 - val_accuracy: 0.8754\n",
      "Epoch 58/100\n",
      "1719/1719 [==============================] - 1s 733us/step - loss: 0.3435 - accuracy: 0.8799 - val_loss: 0.3618 - val_accuracy: 0.8770\n",
      "Epoch 59/100\n",
      "1719/1719 [==============================] - 1s 721us/step - loss: 0.3425 - accuracy: 0.8811 - val_loss: 0.3597 - val_accuracy: 0.8764\n",
      "Epoch 60/100\n",
      "1719/1719 [==============================] - 1s 771us/step - loss: 0.3413 - accuracy: 0.8818 - val_loss: 0.3632 - val_accuracy: 0.8764\n",
      "Epoch 61/100\n",
      "1719/1719 [==============================] - 1s 731us/step - loss: 0.3405 - accuracy: 0.8821 - val_loss: 0.3613 - val_accuracy: 0.8756\n",
      "Epoch 62/100\n",
      "1719/1719 [==============================] - 1s 735us/step - loss: 0.3388 - accuracy: 0.8813 - val_loss: 0.3591 - val_accuracy: 0.8780\n",
      "Epoch 63/100\n",
      "1719/1719 [==============================] - 1s 763us/step - loss: 0.3377 - accuracy: 0.8829 - val_loss: 0.3692 - val_accuracy: 0.8740\n",
      "Epoch 64/100\n",
      "1719/1719 [==============================] - 1s 724us/step - loss: 0.3369 - accuracy: 0.8834 - val_loss: 0.3595 - val_accuracy: 0.8784\n",
      "Epoch 65/100\n",
      "1719/1719 [==============================] - 1s 777us/step - loss: 0.3356 - accuracy: 0.8844 - val_loss: 0.3634 - val_accuracy: 0.8756\n",
      "Epoch 66/100\n",
      "1719/1719 [==============================] - 1s 730us/step - loss: 0.3346 - accuracy: 0.8833 - val_loss: 0.3568 - val_accuracy: 0.8772\n",
      "Epoch 67/100\n",
      "1719/1719 [==============================] - 1s 726us/step - loss: 0.3338 - accuracy: 0.8834 - val_loss: 0.3628 - val_accuracy: 0.8754\n",
      "Epoch 68/100\n",
      "1719/1719 [==============================] - 1s 776us/step - loss: 0.3326 - accuracy: 0.8846 - val_loss: 0.3588 - val_accuracy: 0.8772\n",
      "Epoch 69/100\n",
      "1719/1719 [==============================] - 1s 730us/step - loss: 0.3313 - accuracy: 0.8849 - val_loss: 0.3599 - val_accuracy: 0.8776\n",
      "Epoch 70/100\n",
      "1719/1719 [==============================] - 1s 737us/step - loss: 0.3303 - accuracy: 0.8844 - val_loss: 0.3573 - val_accuracy: 0.8762\n",
      "Epoch 71/100\n",
      "1719/1719 [==============================] - 1s 775us/step - loss: 0.3293 - accuracy: 0.8861 - val_loss: 0.3633 - val_accuracy: 0.8776\n",
      "Epoch 72/100\n",
      "1719/1719 [==============================] - 1s 725us/step - loss: 0.3285 - accuracy: 0.8860 - val_loss: 0.3534 - val_accuracy: 0.8768\n",
      "Epoch 73/100\n",
      "1719/1719 [==============================] - 1s 761us/step - loss: 0.3272 - accuracy: 0.8864 - val_loss: 0.3559 - val_accuracy: 0.8806\n",
      "Epoch 74/100\n",
      "1719/1719 [==============================] - 1s 736us/step - loss: 0.3265 - accuracy: 0.8870 - val_loss: 0.3545 - val_accuracy: 0.8782\n",
      "Epoch 75/100\n",
      "1719/1719 [==============================] - 1s 737us/step - loss: 0.3254 - accuracy: 0.8871 - val_loss: 0.3618 - val_accuracy: 0.8758\n",
      "Epoch 76/100\n",
      "1719/1719 [==============================] - 1s 779us/step - loss: 0.3247 - accuracy: 0.8869 - val_loss: 0.3553 - val_accuracy: 0.8778\n",
      "Epoch 77/100\n",
      "1719/1719 [==============================] - 1s 741us/step - loss: 0.3235 - accuracy: 0.8873 - val_loss: 0.3530 - val_accuracy: 0.8790\n",
      "Epoch 78/100\n",
      "1719/1719 [==============================] - 1s 733us/step - loss: 0.3227 - accuracy: 0.8879 - val_loss: 0.3486 - val_accuracy: 0.8786\n",
      "Epoch 79/100\n",
      "1719/1719 [==============================] - 1s 768us/step - loss: 0.3214 - accuracy: 0.8879 - val_loss: 0.3525 - val_accuracy: 0.8786\n",
      "Epoch 80/100\n",
      "1719/1719 [==============================] - 1s 716us/step - loss: 0.3208 - accuracy: 0.8882 - val_loss: 0.3502 - val_accuracy: 0.8810\n",
      "Epoch 81/100\n",
      "1719/1719 [==============================] - 1s 761us/step - loss: 0.3197 - accuracy: 0.8881 - val_loss: 0.3481 - val_accuracy: 0.8804\n",
      "Epoch 82/100\n",
      "1719/1719 [==============================] - 1s 742us/step - loss: 0.3189 - accuracy: 0.8891 - val_loss: 0.3499 - val_accuracy: 0.8774\n",
      "Epoch 83/100\n",
      "1719/1719 [==============================] - 1s 727us/step - loss: 0.3181 - accuracy: 0.8892 - val_loss: 0.3506 - val_accuracy: 0.8794\n",
      "Epoch 84/100\n",
      "1719/1719 [==============================] - 1s 783us/step - loss: 0.3172 - accuracy: 0.8902 - val_loss: 0.3452 - val_accuracy: 0.8808\n",
      "Epoch 85/100\n",
      "1719/1719 [==============================] - 1s 730us/step - loss: 0.3159 - accuracy: 0.8900 - val_loss: 0.3494 - val_accuracy: 0.8804\n",
      "Epoch 86/100\n",
      "1719/1719 [==============================] - 1s 725us/step - loss: 0.3156 - accuracy: 0.8904 - val_loss: 0.3460 - val_accuracy: 0.8804\n",
      "Epoch 87/100\n",
      "1719/1719 [==============================] - 1s 778us/step - loss: 0.3147 - accuracy: 0.8902 - val_loss: 0.3478 - val_accuracy: 0.8826\n",
      "Epoch 88/100\n",
      "1719/1719 [==============================] - 1s 711us/step - loss: 0.3135 - accuracy: 0.8907 - val_loss: 0.3491 - val_accuracy: 0.8784\n",
      "Epoch 89/100\n",
      "1719/1719 [==============================] - 1s 729us/step - loss: 0.3132 - accuracy: 0.8910 - val_loss: 0.3490 - val_accuracy: 0.8812\n",
      "Epoch 90/100\n",
      "1719/1719 [==============================] - 1s 782us/step - loss: 0.3120 - accuracy: 0.8911 - val_loss: 0.3451 - val_accuracy: 0.8828\n",
      "Epoch 91/100\n",
      "1719/1719 [==============================] - 1s 729us/step - loss: 0.3111 - accuracy: 0.8919 - val_loss: 0.3459 - val_accuracy: 0.8808\n",
      "Epoch 92/100\n",
      "1719/1719 [==============================] - 1s 775us/step - loss: 0.3107 - accuracy: 0.8919 - val_loss: 0.3465 - val_accuracy: 0.8818\n",
      "Epoch 93/100\n",
      "1719/1719 [==============================] - 1s 840us/step - loss: 0.3094 - accuracy: 0.8918 - val_loss: 0.3431 - val_accuracy: 0.8822\n",
      "Epoch 94/100\n",
      "1719/1719 [==============================] - 1s 820us/step - loss: 0.3087 - accuracy: 0.8920 - val_loss: 0.3554 - val_accuracy: 0.8802\n",
      "Epoch 95/100\n",
      "1719/1719 [==============================] - 1s 836us/step - loss: 0.3076 - accuracy: 0.8926 - val_loss: 0.3475 - val_accuracy: 0.8788\n",
      "Epoch 96/100\n",
      "1719/1719 [==============================] - 1s 838us/step - loss: 0.3072 - accuracy: 0.8925 - val_loss: 0.3548 - val_accuracy: 0.8800\n",
      "Epoch 97/100\n",
      "1719/1719 [==============================] - 1s 812us/step - loss: 0.3061 - accuracy: 0.8931 - val_loss: 0.3447 - val_accuracy: 0.8836\n",
      "Epoch 98/100\n",
      "1719/1719 [==============================] - 1s 764us/step - loss: 0.3057 - accuracy: 0.8940 - val_loss: 0.3456 - val_accuracy: 0.8810\n",
      "Epoch 99/100\n",
      "1719/1719 [==============================] - 1s 781us/step - loss: 0.3048 - accuracy: 0.8940 - val_loss: 0.3490 - val_accuracy: 0.8796\n",
      "Epoch 100/100\n",
      "1719/1719 [==============================] - 1s 811us/step - loss: 0.3040 - accuracy: 0.8941 - val_loss: 0.3416 - val_accuracy: 0.8826\n",
      "313/313 [==============================] - 0s 931us/step - loss: 82.2955 - accuracy: 0.8130\n"
     ]
    }
   ],
   "source": [
    "from scipy.stats import reciprocal\n",
    "from sklearn.model_selection import RandomizedSearchCV\n",
    "from tensorflow.keras.callbacks import EarlyStopping\n",
    "\n",
    "def build_model(n_hidden=1, n_neurons=50, learning_rate=3e-3, input_shape=[28, 28]):\n",
    "    model = keras.models.Sequential()\n",
    "    model.add(layers.Flatten(input_shape=input_shape))\n",
    "    for layer in range(n_hidden):\n",
    "        model.add(layers.Dense(n_neurons, activation='relu'))\n",
    "    # model.add(layers.Dense(300, activation='relu'))\n",
    "    # model.add(layers.Dense(100, activation='relu'))\n",
    "    model.add(layers.Dense(10, activation='softmax'))\n",
    "    optimizer = keras.optimizers.SGD(lr=learning_rate)\n",
    "    model.compile(loss='sparse_categorical_crossentropy', optimizer=optimizer, metrics=[\"accuracy\"])\n",
    "    return model\n",
    "\n",
    "keras_cls = keras.wrappers.scikit_learn.KerasClassifier(build_model)\n",
    "\n",
    "keras_cls.fit(X_train, y_train, epochs=100, validation_data=(X_valid, y_valid), callbacks=[EarlyStopping(patience=10, restore_best_weights=True)])\n",
    "mse_test = keras_cls.score(X_test, y_test)\n",
    "\n",
    "# param_dist = {\n",
    "#     \"n_hidden\": [1, 2, 3],\n",
    "#     \"n_neurons\": np.arange(30, 100),\n",
    "#     \"learning_rate\": reciprocal(3e-6, 3e-2),\n",
    "# }\n",
    "# rnd_search_cv = RandomizedSearchCV(keras_cls, param_dist, n_iter=10, cv=3)\n",
    "# rnd_search_cv.fit(X_train, y_train, epochs=100, validation_data=(X_valid, y_valid), callbacks=[EarlyStopping(patience=10, restore_best_weights=True)])"
   ],
   "metadata": {
    "collapsed": false,
    "pycharm": {
     "name": "#%%\n"
    }
   }
  },
  {
   "cell_type": "markdown",
   "source": [
    "### 评估模型"
   ],
   "metadata": {
    "collapsed": false,
    "pycharm": {
     "name": "#%% md\n"
    }
   }
  },
  {
   "cell_type": "code",
   "execution_count": 7,
   "outputs": [
    {
     "data": {
      "text/plain": "<Figure size 576x360 with 1 Axes>",
      "image/png": "[encoded data removed]"
     },
     "metadata": {
      "needs_background": "light"
     },
     "output_type": "display_data"
    }
   ],
   "source": [
    "\n",
    "import pandas as pd\n",
    "import matplotlib.pyplot as plt\n",
    "\n",
    "pd.DataFrame(history.history).plot(figsize=(8, 5))\n",
    "plt.grid(True)\n",
    "plt.gca().set_ylim(0, 1)\n",
    "plt.show()"
   ],
   "metadata": {
    "collapsed": false,
    "pycharm": {
     "name": "#%%\n"
    }
   }
  },
  {
   "cell_type": "markdown",
   "source": [
    "### 使用模型进行预测"
   ],
   "metadata": {
    "collapsed": false,
    "pycharm": {
     "name": "#%% md\n"
    }
   }
  },
  {
   "cell_type": "code",
   "execution_count": 8,
   "outputs": [
    {
     "name": "stdout",
     "output_type": "stream",
     "text": [
      "313/313 [==============================] - 0s 1ms/step - loss: 61.3804 - accuracy: 0.8518\n"
     ]
    },
    {
     "data": {
      "text/plain": "array([[0., 0., 0., ..., 0., 0., 1.],\n       [0., 0., 1., ..., 0., 0., 0.],\n       [0., 1., 0., ..., 0., 0., 0.],\n       ...,\n       [0., 0., 0., ..., 0., 1., 0.],\n       [0., 1., 0., ..., 0., 0., 0.],\n       [0., 0., 0., ..., 0., 0., 0.]], dtype=float32)"
     },
     "execution_count": 8,
     "metadata": {},
     "output_type": "execute_result"
    }
   ],
   "source": [
    "mse_evaluation = model.evaluate(X_test, y_test)\n",
    "model.predict(X_test)"
   ],
   "metadata": {
    "collapsed": false,
    "pycharm": {
     "name": "#%%\n"
    }
   }
  },
  {
   "cell_type": "code",
   "execution_count": 8,
   "outputs": [],
   "source": [],
   "metadata": {
    "collapsed": false,
    "pycharm": {
     "name": "#%%\n"
    }
   }
  }
 ],
 "metadata": {
  "kernelspec": {
   "name": "pycharm-580f0eb6",
   "language": "python",
   "display_name": "PyCharm (RS_study)"
  },
  "language_info": {
   "codemirror_mode": {
    "name": "ipython",
    "version": 2
   },
   "file_extension": ".py",
   "mimetype": "text/x-python",
   "name": "python",
   "nbconvert_exporter": "python",
   "pygments_lexer": "ipython2",
   "version": "2.7.6"
  }
 },
 "nbformat": 4,
 "nbformat_minor": 0
}