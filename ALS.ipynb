{
 "cells": [
  {
   "cell_type": "markdown",
   "source": [
    "数据读取"
   ],
   "metadata": {
    "collapsed": false,
    "pycharm": {
     "name": "#%% md\n"
    }
   }
  },
  {
   "cell_type": "code",
   "execution_count": 26,
   "metadata": {
    "collapsed": true,
    "pycharm": {
     "name": "#%%\n"
    }
   },
   "outputs": [
    {
     "name": "stdout",
     "output_type": "stream",
     "text": [
      "Read successfully!\n"
     ]
    }
   ],
   "source": [
    "from pyspark.sql import SparkSession\n",
    "from pyspark.ml.evaluation import RegressionEvaluator\n",
    "from pyspark.ml.recommendation import ALS\n",
    "\n",
    "spark = SparkSession.builder.appName(\"ALS_demo\").getOrCreate()\n",
    "ratings = spark.read.csv('hdfs://localhost:9000/input/ml_data/ratings.csv', header=True)\n",
    "ratings = ratings.withColumn(\"userId\", ratings.userId.astype(\"int\"))\n",
    "ratings = ratings.withColumn(\"movieId\", ratings.userId.astype(\"int\"))\n",
    "ratings = ratings.withColumn(\"rating\", ratings.userId.astype(\"float\"))\n",
    "ratings = ratings.withColumn(\"timestamp\", ratings.userId.astype(\"int\"))\n",
    "\n",
    "(training, test) = ratings.randomSplit([0.8, 0.2])\n",
    "print(\"Read successfully!\")"
   ]
  },
  {
   "cell_type": "markdown",
   "source": [
    "ALS模型的构建与学习"
   ],
   "metadata": {
    "collapsed": false,
    "pycharm": {
     "name": "#%% md\n"
    }
   }
  },
  {
   "cell_type": "code",
   "execution_count": 27,
   "outputs": [
    {
     "name": "stdout",
     "output_type": "stream",
     "text": [
      "Train successfully!\n"
     ]
    }
   ],
   "source": [
    "als = ALS(\n",
    "    rank=20,\n",
    "    maxIter=10,\n",
    "    regParam=0.1,\n",
    "    userCol='userId',\n",
    "    itemCol='movieId',\n",
    "    ratingCol='rating',\n",
    "    coldStartStrategy=\"drop\",\n",
    "    seed=0\n",
    ")\n",
    "als_model = als.fit(training)\n",
    "\n",
    "print(\"Train successfully!\")"
   ],
   "metadata": {
    "collapsed": false,
    "pycharm": {
     "name": "#%%\n"
    }
   }
  },
  {
   "cell_type": "markdown",
   "source": [
    "模型的预测与评估"
   ],
   "metadata": {
    "collapsed": false
   }
  },
  {
   "cell_type": "code",
   "execution_count": 28,
   "outputs": [
    {
     "name": "stdout",
     "output_type": "stream",
     "text": [
      "Predict successfully!\n",
      "RMS error = 0.011343638354936717\n"
     ]
    }
   ],
   "source": [
    "predictions = als_model.transform(test)\n",
    "evaluator = RegressionEvaluator(\n",
    "    metricName=\"rmse\",\n",
    "    labelCol=\"rating\",\n",
    "    predictionCol=\"prediction\"\n",
    ")\n",
    "rmse = evaluator.evaluate(predictions)\n",
    "\n",
    "print(\"Predict successfully!\")\n",
    "print(\"RMS error = \" + str(rmse))"
   ],
   "metadata": {
    "collapsed": false,
    "pycharm": {
     "name": "#%%\n"
    }
   }
  },
  {
   "cell_type": "markdown",
   "source": [
    "模型输出"
   ],
   "metadata": {
    "collapsed": false,
    "pycharm": {
     "name": "#%% md\n"
    }
   }
  },
  {
   "cell_type": "code",
   "execution_count": 29,
   "outputs": [
    {
     "name": "stdout",
     "output_type": "stream",
     "text": [
      "+------+------------------------------------------+\n",
      "|userId|recommendations                           |\n",
      "+------+------------------------------------------+\n",
      "|471   |[{257565, 203324.53}, {278340, 203005.73}]|\n",
      "|463   |[{267032, 198604.31}, {275279, 198525.1}] |\n",
      "|148   |[{267663, 203747.0}, {275506, 196118.67}] |\n",
      "+------+------------------------------------------+\n",
      "\n",
      "None\n",
      "+-------+---------------------------------------+\n",
      "|movieId|recommendations                        |\n",
      "+-------+---------------------------------------+\n",
      "|471    |[{471, 470.99933}, {57342, 383.8851}]  |\n",
      "|463    |[{463, 462.99936}, {134990, 369.27213}]|\n",
      "|148    |[{148, 147.99792}, {21845, 123.926765}]|\n",
      "+-------+---------------------------------------+\n",
      "\n",
      "None\n"
     ]
    }
   ],
   "source": [
    "import pandas as pd\n",
    "users = ratings.select(als.getUserCol()).distinct().limit(3)\n",
    "movies = ratings.select(als.getItemCol()).distinct().limit(3)\n",
    "user_output = als_model.recommendForUserSubset(users, 2)\n",
    "movie_output = als_model.recommendForItemSubset(movies, 2)\n",
    "\n",
    "print(user_output.show(3, False))\n",
    "print(movie_output.show(3, False))\n",
    "\n",
    "# user_recs = user_output.toPandas().to_json(orient = 'records')\n",
    "# movie_recs = movie_output.toPandas().to_json(orient = 'records')\n",
    "\n",
    "# print(user_recs)\n",
    "# print(movie_recs)"
   ],
   "metadata": {
    "collapsed": false,
    "pycharm": {
     "name": "#%%\n"
    }
   }
  }
 ],
 "metadata": {
  "kernelspec": {
   "name": "pycharm-580f0eb6",
   "language": "python",
   "display_name": "PyCharm (RS_study)"
  },
  "language_info": {
   "codemirror_mode": {
    "name": "ipython",
    "version": 2
   },
   "file_extension": ".py",
   "mimetype": "text/x-python",
   "name": "python",
   "nbconvert_exporter": "python",
   "pygments_lexer": "ipython2",
   "version": "2.7.6"
  }
 },
 "nbformat": 4,
 "nbformat_minor": 0
}