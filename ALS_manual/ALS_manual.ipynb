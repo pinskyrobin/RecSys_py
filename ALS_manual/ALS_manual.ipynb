{
 "cells": [
  {
   "cell_type": "markdown",
   "metadata": {
    "collapsed": true,
    "pycharm": {
     "name": "#%% md\n"
    }
   },
   "source": [
    "加载数据与模型构建"
   ]
  },
  {
   "cell_type": "code",
   "execution_count": 7,
   "outputs": [
    {
     "name": "stdout",
     "output_type": "stream",
     "text": [
      "Iterations: 1, RMSE: 3.392247\n",
      "Iterations: 2, RMSE: 0.344212\n",
      "Iterations: 3, RMSE: 0.330166\n",
      "Iterations: 4, RMSE: 0.324793\n",
      "Iterations: 5, RMSE: 0.321082\n",
      "Iterations: 6, RMSE: 0.319004\n",
      "Iterations: 7, RMSE: 0.317760\n",
      "Iterations: 8, RMSE: 0.316971\n",
      "Iterations: 9, RMSE: 0.316551\n",
      "Iterations: 10, RMSE: 0.316264\n"
     ]
    }
   ],
   "source": [
    "from ALS import ALS\n",
    "import numpy as np\n",
    "from sklearn.model_selection import train_test_split\n",
    "\n",
    "data = np.load(\"/Users/pinskyrobin/OneDrive/Skills/RecommenderSystem/RS_learning/dataset/ratings.npy\")\n",
    "data = np.delete(data, -1, axis=1)\n",
    "\n",
    "X, Y = train_test_split(data, train_size=0.6, random_state=0)\n",
    "Y = np.delete(Y, -1, axis=1)\n",
    "\n",
    "model = ALS()\n",
    "model.fit(X, k=10, max_iter=10, lamb=3)\n"
   ],
   "metadata": {
    "collapsed": false,
    "pycharm": {
     "name": "#%%\n"
    }
   }
  },
  {
   "cell_type": "markdown",
   "source": [
    "模型预测"
   ],
   "metadata": {
    "collapsed": false
   }
  },
  {
   "cell_type": "code",
   "execution_count": 8,
   "outputs": [],
   "source": [
    "user_ids = range(1, 611)\n",
    "predictions = model.predict(user_ids, n_items=80)"
   ],
   "metadata": {
    "collapsed": false,
    "pycharm": {
     "name": "#%%\n"
    }
   }
  },
  {
   "cell_type": "markdown",
   "source": [
    "模型评估"
   ],
   "metadata": {
    "collapsed": false,
    "pycharm": {
     "name": "#%% md\n"
    }
   }
  },
  {
   "cell_type": "code",
   "execution_count": 10,
   "outputs": [
    {
     "name": "stdout",
     "output_type": "stream",
     "text": [
      "recall:0.1933196721311476\n",
      "precision:0.3670010193742001\n",
      "coverage:0.14101247248716067\n"
     ]
    }
   ],
   "source": [
    "from operator import itemgetter\n",
    "from utils import recall, precision, coverage\n",
    "\n",
    "\n",
    "# movies = pd.read_csv(\"../dataset/movies.csv\", header=None)\n",
    "\n",
    "\n",
    "def get_items_list(raw_data):\n",
    "    raw_data = sorted(raw_data, key=(lambda x: x[0]))\n",
    "    item_list = []\n",
    "    tmp_list = []\n",
    "    for item in raw_data:\n",
    "        if int(item[0]) <= len(item_list) + 1:\n",
    "            tmp_list.append(int(item[1]))\n",
    "            continue\n",
    "        item_list.append(tmp_list)\n",
    "        tmp_list = []\n",
    "    item_list.append(tmp_list)\n",
    "    return item_list\n",
    "\n",
    "\n",
    "train_recs = []\n",
    "for items in predictions:\n",
    "    train_recs.append(list(map(int, map(itemgetter(0), items))))\n",
    "test = get_items_list(Y)\n",
    "\n",
    "print(\"recall:{}\".format(recall(train_recs, test)))\n",
    "print(\"precision:{}\".format(precision(train_recs, test)))\n",
    "print(\"coverage:{}\".format(coverage(train_recs, test)))\n",
    "# for user_id, prediction in zip(user_ids, predictions):\n",
    "#     _prediction = []\n",
    "#     for item_id, score in prediction:\n",
    "#         item_name = movies[movies[0] == item_id][1].item()\n",
    "#         _prediction.append(item_name)\n",
    "#         # _prediction.append([item_name, score])\n",
    "#     print(\"user_id:%d recommedation: %s\" % (user_id, _prediction))"
   ],
   "metadata": {
    "collapsed": false,
    "pycharm": {
     "name": "#%%\n"
    }
   }
  }
 ],
 "metadata": {
  "kernelspec": {
   "name": "pycharm-ea107716",
   "language": "python",
   "display_name": "PyCharm (exp2)"
  },
  "language_info": {
   "codemirror_mode": {
    "name": "ipython",
    "version": 2
   },
   "file_extension": ".py",
   "mimetype": "text/x-python",
   "name": "python",
   "nbconvert_exporter": "python",
   "pygments_lexer": "ipython2",
   "version": "2.7.6"
  }
 },
 "nbformat": 4,
 "nbformat_minor": 0
}