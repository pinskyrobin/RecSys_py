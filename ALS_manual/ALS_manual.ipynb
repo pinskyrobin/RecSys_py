{
 "cells": [
  {
   "cell_type": "markdown",
   "metadata": {
    "collapsed": true,
    "pycharm": {
     "name": "#%% md\n"
    }
   },
   "source": [
    "加载数据与模型构建"
   ]
  },
  {
   "cell_type": "code",
   "execution_count": 1,
   "outputs": [
    {
     "name": "stdout",
     "output_type": "stream",
     "text": [
      "Iterations: 1, RMSE: 3.333755\n",
      "Iterations: 2, RMSE: 0.393453\n",
      "Iterations: 3, RMSE: 0.380760\n",
      "Iterations: 4, RMSE: 0.378003\n",
      "Iterations: 5, RMSE: 0.376929\n"
     ]
    }
   ],
   "source": [
    "from ALS import ALS\n",
    "import numpy as np\n",
    "\n",
    "data = np.load(\"../dataset/ratings.npy\")\n",
    "X = np.delete(data, -1, axis=1)\n",
    "\n",
    "model = ALS()\n",
    "model.fit(X, k=3, max_iter=5)\n"
   ],
   "metadata": {
    "collapsed": false,
    "pycharm": {
     "name": "#%%\n"
    }
   }
  },
  {
   "cell_type": "markdown",
   "source": [
    "模型预测"
   ],
   "metadata": {
    "collapsed": false
   }
  },
  {
   "cell_type": "code",
   "execution_count": 2,
   "outputs": [
    {
     "name": "stdout",
     "output_type": "stream",
     "text": [
      "user_id:1 recommedation: ['Godfather, The (1972)', 'Blade Runner (1982)']\n",
      "user_id:2 recommedation: ['Pulp Fiction (1994)', 'Matrix, The (1999)']\n",
      "user_id:3 recommedation: ['Godfather, The (1972)', 'Star Wars: Episode V - The Empire Strikes Back (1980)']\n",
      "user_id:4 recommedation: ['Godfather, The (1972)', 'Star Wars: Episode VI - Return of the Jedi (1983)']\n"
     ]
    }
   ],
   "source": [
    "import pandas as pd\n",
    "movies = pd.read_csv(\"../dataset/movies.csv\", header=None)\n",
    "\n",
    "user_ids = range(1, 5)\n",
    "predictions = model.predict(user_ids, n_items=2)\n",
    "for user_id, prediction in zip(user_ids, predictions):\n",
    "    _prediction = []\n",
    "    for item_id, score in prediction:\n",
    "        item_name = movies[movies[0] == item_id][1].item()\n",
    "        _prediction.append(item_name)\n",
    "        # _prediction.append([item_name, score])\n",
    "    print(\"user_id:%d recommedation: %s\" % (user_id, _prediction))"
   ],
   "metadata": {
    "collapsed": false,
    "pycharm": {
     "name": "#%%\n"
    }
   }
  }
 ],
 "metadata": {
  "kernelspec": {
   "name": "pycharm-ea107716",
   "language": "python",
   "display_name": "PyCharm (exp2)"
  },
  "language_info": {
   "codemirror_mode": {
    "name": "ipython",
    "version": 2
   },
   "file_extension": ".py",
   "mimetype": "text/x-python",
   "name": "python",
   "nbconvert_exporter": "python",
   "pygments_lexer": "ipython2",
   "version": "2.7.6"
  }
 },
 "nbformat": 4,
 "nbformat_minor": 0
}