{
 "cells": [
  {
   "cell_type": "markdown",
   "source": [
    "数据读取"
   ],
   "metadata": {
    "collapsed": false,
    "pycharm": {
     "name": "#%% md\n"
    }
   }
  },
  {
   "cell_type": "code",
   "execution_count": 34,
   "metadata": {
    "collapsed": true,
    "pycharm": {
     "name": "#%%\n"
    }
   },
   "outputs": [
    {
     "name": "stdout",
     "output_type": "stream",
     "text": [
      "Read successfully!\n"
     ]
    }
   ],
   "source": [
    "from pyspark.sql import SparkSession\n",
    "from pyspark.ml.evaluation import RegressionEvaluator\n",
    "from pyspark.ml.recommendation import ALS\n",
    "\n",
    "spark = SparkSession.builder.appName(\"ALS_demo\").getOrCreate()\n",
    "\n",
    "# 读取数据，并进行类型转换\n",
    "ratings = spark.read.csv('hdfs://localhost:9000/input/ml_data/ratings.csv', header=True)\n",
    "ratings = ratings.withColumn(\"userId\", ratings.userId.astype(\"int\"))\n",
    "ratings = ratings.withColumn(\"movieId\", ratings.userId.astype(\"int\"))\n",
    "ratings = ratings.withColumn(\"rating\", ratings.userId.astype(\"float\"))\n",
    "ratings = ratings.withColumn(\"timestamp\", ratings.userId.astype(\"int\"))\n",
    "\n",
    "(training, test) = ratings.randomSplit([0.8, 0.2])\n",
    "print(\"Read successfully!\")"
   ]
  },
  {
   "cell_type": "markdown",
   "source": [
    "ALS模型的构建与学习"
   ],
   "metadata": {
    "collapsed": false,
    "pycharm": {
     "name": "#%% md\n"
    }
   }
  },
  {
   "cell_type": "code",
   "execution_count": 35,
   "outputs": [
    {
     "name": "stdout",
     "output_type": "stream",
     "text": [
      "Train successfully!\n"
     ]
    }
   ],
   "source": [
    "als = ALS(\n",
    "    rank=20,\n",
    "    maxIter=10,\n",
    "    regParam=0.1,\n",
    "    userCol='userId',\n",
    "    itemCol='movieId',\n",
    "    ratingCol='rating',\n",
    "    coldStartStrategy=\"drop\",\n",
    "    seed=0\n",
    ")\n",
    "als_model = als.fit(training)\n",
    "\n",
    "print(\"Train successfully!\")"
   ],
   "metadata": {
    "collapsed": false,
    "pycharm": {
     "name": "#%%\n"
    }
   }
  },
  {
   "cell_type": "markdown",
   "source": [
    "模型的预测与评估"
   ],
   "metadata": {
    "collapsed": false
   }
  },
  {
   "cell_type": "code",
   "execution_count": 36,
   "outputs": [
    {
     "name": "stdout",
     "output_type": "stream",
     "text": [
      "Predict successfully!\n",
      "RMS error = 0.01129221602343152\n"
     ]
    }
   ],
   "source": [
    "predictions = als_model.transform(test)\n",
    "evaluator = RegressionEvaluator(\n",
    "    metricName=\"rmse\",\n",
    "    labelCol=\"rating\",\n",
    "    predictionCol=\"prediction\"\n",
    ")\n",
    "rmse = evaluator.evaluate(predictions)\n",
    "\n",
    "print(\"Predict successfully!\")\n",
    "print(\"RMS error = \" + str(rmse))"
   ],
   "metadata": {
    "collapsed": false,
    "pycharm": {
     "name": "#%%\n"
    }
   }
  },
  {
   "cell_type": "markdown",
   "source": [
    "模型输出"
   ],
   "metadata": {
    "collapsed": false,
    "pycharm": {
     "name": "#%% md\n"
    }
   }
  },
  {
   "cell_type": "code",
   "execution_count": 40,
   "outputs": [
    {
     "name": "stderr",
     "output_type": "stream",
     "text": [
      "C:\\Users\\x50021862\\Anaconda3\\lib\\site-packages\\pyspark\\sql\\context.py:125: FutureWarning: Deprecated in 3.0.0. Use SparkSession.builder.getOrCreate() instead.\n",
      "  warnings.warn(\n"
     ]
    },
    {
     "name": "stdout",
     "output_type": "stream",
     "text": [
      "   userId                                    recommendations\n",
      "0     471    [(257725, 203451.578125), (278380, 203028.875)]\n",
      "1     463  [(281564, 192630.09375), (256519, 189882.484375)]\n",
      "2     148  [(267833, 203874.484375), (275326, 195999.15625)]\n"
     ]
    }
   ],
   "source": [
    "import pandas as pd\n",
    "users = ratings.select(als.getUserCol()).distinct().limit(3)\n",
    "movies = ratings.select(als.getItemCol()).distinct().limit(3)\n",
    "user_output = als_model.recommendForUserSubset(users, 2)\n",
    "movie_output = als_model.recommendForItemSubset(movies, 2)\n",
    "\n",
    "# print(user_output.show(3, False))\n",
    "# print(movie_output.show(3, False))\n",
    "\n",
    "# user_recs = user_output.toPandas().to_json(orient = 'records')\n",
    "# movie_recs = movie_output.toPandas().to_json(orient = 'records')\n",
    "\n",
    "# movies = spark.read.csv('hdfs://localhost:9000/input/ml_data/movies.csv', header=True).toPandas()\n",
    "\n",
    "user_recs = user_output.toPandas()\n",
    "print(user_recs)\n",
    "\n",
    "# other process"
   ],
   "metadata": {
    "collapsed": false,
    "pycharm": {
     "name": "#%%\n"
    }
   }
  }
 ],
 "metadata": {
  "kernelspec": {
   "name": "pycharm-580f0eb6",
   "language": "python",
   "display_name": "PyCharm (RS_study)"
  },
  "language_info": {
   "codemirror_mode": {
    "name": "ipython",
    "version": 2
   },
   "file_extension": ".py",
   "mimetype": "text/x-python",
   "name": "python",
   "nbconvert_exporter": "python",
   "pygments_lexer": "ipython2",
   "version": "2.7.6"
  }
 },
 "nbformat": 4,
 "nbformat_minor": 0
}